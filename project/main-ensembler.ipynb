{
 "cells": [
  {
   "cell_type": "code",
   "execution_count": 3,
   "metadata": {},
   "outputs": [],
   "source": [
    "#imports\n",
    "import numpy as np\n",
    "import torch.optim as optim\n",
    "import math\n",
    "import argparse\n",
    "import sys\n",
    "\n",
    "from torch import nn\n",
    "from dataloader import *\n",
    "from models import *\n",
    "from helper import *\n",
    "from trainAndtest import *"
   ]
  },
  {
   "cell_type": "code",
   "execution_count": 4,
   "metadata": {},
   "outputs": [
    {
     "name": "stdout",
     "output_type": "stream",
     "text": [
      "=============== Loading Data ===============\n"
     ]
    }
   ],
   "source": [
    "percentage = 0.05\n",
    "\n",
    "X_train, X_val, train_nc, X_test = DataProcessing(float(percentage))\n",
    "train_loader = DataLoader(X_train, batch_size=16, shuffle=True, num_workers=16)\n",
    "val_loader = DataLoader(X_val, batch_size=16, shuffle=True, num_workers=16)\n",
    "test_loader = DataLoader(X_test, batch_size=16, shuffle=True, num_workers=16)"
   ]
  },
  {
   "cell_type": "code",
   "execution_count": 6,
   "metadata": {},
   "outputs": [
    {
     "name": "stdout",
     "output_type": "stream",
     "text": [
      "17\n"
     ]
    }
   ],
   "source": [
    "## \n",
    "mname = None\n",
    "train_models = []\n",
    "best_score = 999999\n",
    "best_threshold = [0.22825835302337297,0.2241922165776087,0.26945796358407853,0.2546193993822431,0.10096654458404705,0.1570157025676272,0.18412963345438044,0.2023645493433312,0.20194953713647665,0.3023475291366101,0.20763791557387953,0.07203177923252294,0.14270117753775374,0.32631954254330175,0.2292770860903799,0.16027637330660788,0.20264818991555558]\n",
    "print(len(best_threshold))"
   ]
  },
  {
   "cell_type": "code",
   "execution_count": null,
   "metadata": {},
   "outputs": [],
   "source": [
    "for mt in [\"resnet50\", \"densenet161\", \"resnet152\"]:\n",
    "    model_type = mt\n",
    "\n",
    "    model = get_from_models(model_type, 17, not(mname==None), mname)\n",
    "    model = model.cuda()\n",
    "\n",
    "    # Created the loss function and optimizer\n",
    "    loss_fn = nn.MultiLabelSoftMarginLoss().cuda()\n",
    "    optimizer = optim.SGD([\n",
    "        {'params': [param for name, param in model.named_parameters() if name[-4:] == 'bias']},\n",
    "        {'params': [param for name, param in model.named_parameters() if name[-4:] != 'bias'],\n",
    "         'weight_decay': 1e-4}\n",
    "    ], lr=1e-2, momentum=0.9, nesterov=True)\n",
    "\n",
    "\n",
    "    for epoch in range(1, 5):\n",
    "        train(model, epoch, train_loader, optimizer, loss_fn)\n",
    "        torch.save(model.state_dict(),\"./ensembler/{}.pth\".format(model_type))\n",
    "        v_score, threshold, ff2 = validate(model, val_loader, loss_fn)\n",
    "\n",
    "        if v_score < best_score:\n",
    "            best_model = model\n",
    "            best_threshold = threshold\n",
    "            best_score = v_score\n",
    "            # saveCreds(save = True, threshold = best_threshold, v_score = best_score)\n",
    "            # torch.save(model.state_dict(),\"./{}_train.pth\".format(\"best\"))\n",
    "        "
   ]
  },
  {
   "cell_type": "markdown",
   "metadata": {},
   "source": [
    "### Ensembler Predictions\n"
   ]
  },
  {
   "cell_type": "code",
   "execution_count": null,
   "metadata": {},
   "outputs": [],
   "source": [
    "ensembleResnetModelsPredictions(test_loader, None, best_threshold, X_test, \"Prediction\", [\"resnet50\"])"
   ]
  },
  {
   "cell_type": "code",
   "execution_count": null,
   "metadata": {},
   "outputs": [],
   "source": [
    "ensembleResnetModelsPredictions(test_loader, None, best_threshold, X_test, \"Prediction\", [\"densenet161\"])"
   ]
  },
  {
   "cell_type": "code",
   "execution_count": null,
   "metadata": {},
   "outputs": [],
   "source": [
    "ensembleResnetModelsPredictions(test_loader, None, best_threshold, X_test, \"Prediction\", [\"resnet152\"])"
   ]
  },
  {
   "cell_type": "code",
   "execution_count": 7,
   "metadata": {},
   "outputs": [
    {
     "name": "stdout",
     "output_type": "stream",
     "text": [
      "====== Starting Prediction Model Enesembling ======\n",
      "load model ./ensembler/resnet50.pth\n",
      "Getting resnet50\n",
      "pretrained\n",
      "Done 0.0%\n",
      "Done 7.90904597133%\n",
      "Done 15.8180919427%\n",
      "Done 23.727137914%\n",
      "Done 31.6361838853%\n",
      "Done 39.5452298566%\n",
      "Done 47.454275828%\n",
      "Done 55.3633217993%\n",
      "Done 63.2723677706%\n",
      "Done 71.181413742%\n",
      "Done 79.0904597133%\n",
      "Done 86.9995056846%\n",
      "Done 94.908551656%\n",
      "load model ./ensembler/resnet152.pth\n",
      "Getting resnet152\n",
      "pretrained\n",
      "Done 0.0%\n",
      "Done 7.90904597133%\n",
      "Done 15.8180919427%\n",
      "Done 23.727137914%\n",
      "Done 31.6361838853%\n",
      "Done 39.5452298566%\n",
      "Done 47.454275828%\n",
      "Done 55.3633217993%\n",
      "Done 63.2723677706%\n",
      "Done 71.181413742%\n",
      "Done 79.0904597133%\n",
      "Done 86.9995056846%\n",
      "Done 94.908551656%\n",
      "Main Prediction [9.7164738e-01 1.6690182e-03 1.7870545e-02 1.3087963e-03 1.1193042e-03\n",
      " 9.5225924e-01 8.7388253e-05 1.1386208e-03 7.0863950e-01 9.8594099e-01\n",
      " 2.7168173e-02 3.1191852e-02 9.9682981e-01 9.7724664e-01 4.0940051e-03\n",
      " 5.5671078e-03 1.0972444e-01], prediction [4.0392828e-01 9.3143592e-03 4.3006573e-02 3.0148763e-03 2.1629394e-03\n",
      " 9.8816621e-01 7.8374270e-04 6.8456000e-03 2.1606814e-02 9.1460848e-01\n",
      " 9.2160068e-03 7.8009726e-03 7.0123810e-01 9.8232275e-01 7.1196081e-03\n",
      " 1.4484022e-03 5.1386401e-02]\n",
      "====== Raw predictions done ========\n",
      "======= Final predictions done =======\n",
      "Final predictions saved to ./out/Prediction-final-pred-.csv\n",
      "Final fbeta score is 83.76943084506279\n"
     ]
    }
   ],
   "source": [
    "ensembleResnetModelsPredictions(test_loader, None, best_threshold, X_test, \"Prediction\", [\"resnet50\",\"resnet152\"])"
   ]
  },
  {
   "cell_type": "code",
   "execution_count": null,
   "metadata": {},
   "outputs": [],
   "source": []
  }
 ],
 "metadata": {
  "kernelspec": {
   "display_name": "Python (DLproj)",
   "language": "python",
   "name": "dlproj"
  }
 },
 "nbformat": 4,
 "nbformat_minor": 2
}
